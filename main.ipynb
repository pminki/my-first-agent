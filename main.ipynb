{
 "cells": [
  {
   "cell_type": "code",
   "execution_count": 1,
   "id": "3f0fa537",
   "metadata": {},
   "outputs": [],
   "source": [
    "import openai\n",
    "\n",
    "client = openai.OpenAI()\n",
    "messages = []\n"
   ]
  },
  {
   "cell_type": "code",
   "execution_count": null,
   "id": "c60e8dd4",
   "metadata": {},
   "outputs": [],
   "source": [
    "def call_ai():\n",
    "  response = client.chat.completions.create(\n",
    "    model=\"gpt-5-nano\",\n",
    "    messages=messages,\n",
    "  )\n",
    "\n",
    "  message = response.choices[0].message.content\n",
    "  messages.append({\n",
    "    \"role\": \"assistant\",\n",
    "    \"content\": message\n",
    "  })\n",
    "\n",
    "  print(f\"AI: {message}\")"
   ]
  },
  {
   "cell_type": "code",
   "execution_count": 3,
   "id": "c197cb2a",
   "metadata": {},
   "outputs": [
    {
     "name": "stdout",
     "output_type": "stream",
     "text": [
      "User: \n"
     ]
    },
    {
     "ename": "AttributeError",
     "evalue": "'str' object has no attribute 'append'",
     "output_type": "error",
     "traceback": [
      "\u001b[31m---------------------------------------------------------------------------\u001b[39m",
      "\u001b[31mAttributeError\u001b[39m                            Traceback (most recent call last)",
      "\u001b[36mCell\u001b[39m\u001b[36m \u001b[39m\u001b[32mIn[3]\u001b[39m\u001b[32m, line 12\u001b[39m\n\u001b[32m      7\u001b[39m messages.append({\n\u001b[32m      8\u001b[39m   \u001b[33m\"\u001b[39m\u001b[33mrole\u001b[39m\u001b[33m\"\u001b[39m: \u001b[33m\"\u001b[39m\u001b[33muser\u001b[39m\u001b[33m\"\u001b[39m,\n\u001b[32m      9\u001b[39m   \u001b[33m\"\u001b[39m\u001b[33mcontent\u001b[39m\u001b[33m\"\u001b[39m: message\n\u001b[32m     10\u001b[39m })\n\u001b[32m     11\u001b[39m \u001b[38;5;28mprint\u001b[39m(\u001b[33mf\u001b[39m\u001b[33m\"\u001b[39m\u001b[33mUser: \u001b[39m\u001b[38;5;132;01m{\u001b[39;00mmessage\u001b[38;5;132;01m}\u001b[39;00m\u001b[33m\"\u001b[39m)\n\u001b[32m---> \u001b[39m\u001b[32m12\u001b[39m \u001b[43mcall_ai\u001b[49m\u001b[43m(\u001b[49m\u001b[43m)\u001b[49m\n",
      "\u001b[36mCell\u001b[39m\u001b[36m \u001b[39m\u001b[32mIn[2]\u001b[39m\u001b[32m, line 8\u001b[39m, in \u001b[36mcall_ai\u001b[39m\u001b[34m()\u001b[39m\n\u001b[32m      2\u001b[39m response = client.chat.completions.create(\n\u001b[32m      3\u001b[39m   model=\u001b[33m\"\u001b[39m\u001b[33mgpt-5-nano\u001b[39m\u001b[33m\"\u001b[39m,\n\u001b[32m      4\u001b[39m   messages=messages,\n\u001b[32m      5\u001b[39m )\n\u001b[32m      7\u001b[39m message = response.choices[\u001b[32m0\u001b[39m].message.content\n\u001b[32m----> \u001b[39m\u001b[32m8\u001b[39m \u001b[43mmessage\u001b[49m\u001b[43m.\u001b[49m\u001b[43mappend\u001b[49m({\n\u001b[32m      9\u001b[39m   \u001b[33m\"\u001b[39m\u001b[33mrole\u001b[39m\u001b[33m\"\u001b[39m: \u001b[33m\"\u001b[39m\u001b[33massistant\u001b[39m\u001b[33m\"\u001b[39m,\n\u001b[32m     10\u001b[39m   \u001b[33m\"\u001b[39m\u001b[33mcontent\u001b[39m\u001b[33m\"\u001b[39m: message\n\u001b[32m     11\u001b[39m })\n\u001b[32m     13\u001b[39m \u001b[38;5;28mprint\u001b[39m(\u001b[33mf\u001b[39m\u001b[33m\"\u001b[39m\u001b[33mAI: \u001b[39m\u001b[38;5;132;01m{\u001b[39;00mmessage\u001b[38;5;132;01m}\u001b[39;00m\u001b[33m\"\u001b[39m)\n",
      "\u001b[31mAttributeError\u001b[39m: 'str' object has no attribute 'append'"
     ]
    }
   ],
   "source": [
    "while True:\n",
    "  message = input(\"Send a message to the LLM...\")\n",
    "\n",
    "  if message == \"quit\" or message == \"q\":\n",
    "    break\n",
    "  else:\n",
    "    messages.append({\n",
    "      \"role\": \"user\",\n",
    "      \"content\": message\n",
    "    })\n",
    "    print(f\"User: {message}\")\n",
    "    call_ai()"
   ]
  }
 ],
 "metadata": {
  "kernelspec": {
   "display_name": ".venv",
   "language": "python",
   "name": "python3"
  },
  "language_info": {
   "codemirror_mode": {
    "name": "ipython",
    "version": 3
   },
   "file_extension": ".py",
   "mimetype": "text/x-python",
   "name": "python",
   "nbconvert_exporter": "python",
   "pygments_lexer": "ipython3",
   "version": "3.13.7"
  }
 },
 "nbformat": 4,
 "nbformat_minor": 5
}
